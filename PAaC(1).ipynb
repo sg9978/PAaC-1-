{
  "nbformat": 4,
  "nbformat_minor": 0,
  "metadata": {
    "colab": {
      "provenance": []
    },
    "kernelspec": {
      "name": "python3",
      "display_name": "Python 3"
    },
    "language_info": {
      "name": "python"
    }
  },
  "cells": [
    {
      "cell_type": "code",
      "execution_count": 11,
      "metadata": {
        "id": "hsxuvIZM7-Bv"
      },
      "outputs": [],
      "source": [
        "import tensorflow as tf\n",
        "from tensorflow.keras import layers, models\n",
        "from tensorflow.keras.datasets import cifar10\n",
        "from tensorflow.keras.utils import to_categorical"
      ]
    },
    {
      "cell_type": "code",
      "source": [
        "(x_train, y_train), (x_test, y_test) = cifar10.load_data()\n"
      ],
      "metadata": {
        "id": "vVo6YIEU94B2"
      },
      "execution_count": 12,
      "outputs": []
    },
    {
      "cell_type": "code",
      "source": [
        "x_train_1, x_test_1 = x_train/255.0 , x_test/255.0\n",
        "#will try to print results with and without normaliziing"
      ],
      "metadata": {
        "id": "t1uKivTAGrYv"
      },
      "execution_count": 13,
      "outputs": []
    },
    {
      "cell_type": "code",
      "source": [
        "#one hot encoding\n",
        "y_train = to_categorical(y_train, 10)\n",
        "y_test = to_categorical(y_test, 10)\n"
      ],
      "metadata": {
        "id": "_8D66yxN94LZ"
      },
      "execution_count": 14,
      "outputs": []
    },
    {
      "cell_type": "code",
      "source": [
        "x_train[0].shape"
      ],
      "metadata": {
        "colab": {
          "base_uri": "https://localhost:8080/"
        },
        "id": "vEtCM-U2HzBf",
        "outputId": "677e6652-9b66-4f87-b1f7-135dbaf57443"
      },
      "execution_count": 15,
      "outputs": [
        {
          "output_type": "execute_result",
          "data": {
            "text/plain": [
              "(32, 32, 3)"
            ]
          },
          "metadata": {},
          "execution_count": 15
        }
      ]
    },
    {
      "cell_type": "code",
      "source": [
        "x_train.shape"
      ],
      "metadata": {
        "colab": {
          "base_uri": "https://localhost:8080/"
        },
        "id": "Uglz7Qw8H4P6",
        "outputId": "f14c6655-bc1b-4eb7-e545-9049e34e2262"
      },
      "execution_count": 16,
      "outputs": [
        {
          "output_type": "execute_result",
          "data": {
            "text/plain": [
              "(50000, 32, 32, 3)"
            ]
          },
          "metadata": {},
          "execution_count": 16
        }
      ]
    },
    {
      "cell_type": "markdown",
      "source": [
        "SEQUENTIAL MODEL"
      ],
      "metadata": {
        "id": "MqIzI9XwHhwF"
      }
    },
    {
      "cell_type": "code",
      "source": [
        "model = models.Sequential()\n",
        "model.add(layers.Flatten(input_shape=(32, 32, 3)))#flattening the image input\n",
        "model.add(layers.Dense(128, activation='relu'))#building a simple NN with relu activation\n",
        "model.add(layers.Dense(10, activation='softmax'))#softmax classifier\n"
      ],
      "metadata": {
        "id": "QF9ZaRdfHgYC"
      },
      "execution_count": 17,
      "outputs": []
    },
    {
      "cell_type": "code",
      "source": [
        "model.compile(optimizer='adam', loss='categorical_crossentropy', metrics=['accuracy'])\n",
        "model.fit(x_train, y_train, epochs=10, validation_data=(x_test, y_test))"
      ],
      "metadata": {
        "colab": {
          "base_uri": "https://localhost:8080/"
        },
        "id": "RQ_4iljUHga7",
        "outputId": "6a85c292-f0b0-4711-e028-3179d90a9b70"
      },
      "execution_count": 18,
      "outputs": [
        {
          "output_type": "stream",
          "name": "stdout",
          "text": [
            "Epoch 1/10\n",
            "1563/1563 [==============================] - 14s 9ms/step - loss: 10.1295 - accuracy: 0.0997 - val_loss: 2.3039 - val_accuracy: 0.1000\n",
            "Epoch 2/10\n",
            "1563/1563 [==============================] - 13s 8ms/step - loss: 2.3027 - accuracy: 0.0993 - val_loss: 2.3038 - val_accuracy: 0.0999\n",
            "Epoch 3/10\n",
            "1563/1563 [==============================] - 13s 8ms/step - loss: 2.3028 - accuracy: 0.0963 - val_loss: 2.3039 - val_accuracy: 0.1000\n",
            "Epoch 4/10\n",
            "1563/1563 [==============================] - 14s 9ms/step - loss: 2.3027 - accuracy: 0.0983 - val_loss: 2.3038 - val_accuracy: 0.0999\n",
            "Epoch 5/10\n",
            "1563/1563 [==============================] - 13s 8ms/step - loss: 2.3027 - accuracy: 0.0996 - val_loss: 2.3039 - val_accuracy: 0.1000\n",
            "Epoch 6/10\n",
            "1563/1563 [==============================] - 13s 9ms/step - loss: 2.3098 - accuracy: 0.0982 - val_loss: 2.3039 - val_accuracy: 0.1000\n",
            "Epoch 7/10\n",
            "1563/1563 [==============================] - 13s 9ms/step - loss: 2.3028 - accuracy: 0.0971 - val_loss: 2.3038 - val_accuracy: 0.1000\n",
            "Epoch 8/10\n",
            "1563/1563 [==============================] - 13s 8ms/step - loss: 2.3028 - accuracy: 0.0960 - val_loss: 2.3039 - val_accuracy: 0.1000\n",
            "Epoch 9/10\n",
            "1563/1563 [==============================] - 12s 8ms/step - loss: 2.3027 - accuracy: 0.0997 - val_loss: 2.3039 - val_accuracy: 0.0999\n",
            "Epoch 10/10\n",
            "1563/1563 [==============================] - 12s 8ms/step - loss: 2.3027 - accuracy: 0.0982 - val_loss: 2.3039 - val_accuracy: 0.1000\n"
          ]
        },
        {
          "output_type": "execute_result",
          "data": {
            "text/plain": [
              "<keras.src.callbacks.History at 0x785701a43520>"
            ]
          },
          "metadata": {},
          "execution_count": 18
        }
      ]
    },
    {
      "cell_type": "code",
      "source": [
        "test_loss, test_acc = model.evaluate(x_test, y_test)\n",
        "print(f\"Test Accuracy: {test_acc}\")"
      ],
      "metadata": {
        "colab": {
          "base_uri": "https://localhost:8080/"
        },
        "id": "S14QSVAQJ0JT",
        "outputId": "3b648527-8eb9-4938-8d88-53ca55235c5e"
      },
      "execution_count": 19,
      "outputs": [
        {
          "output_type": "stream",
          "name": "stdout",
          "text": [
            "313/313 [==============================] - 1s 4ms/step - loss: 2.3039 - accuracy: 0.1000\n",
            "Test Accuracy: 0.10000000149011612\n"
          ]
        }
      ]
    },
    {
      "cell_type": "markdown",
      "source": [
        "TRYING WITH NORMALISED DATASET"
      ],
      "metadata": {
        "id": "qOevcic0J_cK"
      }
    },
    {
      "cell_type": "code",
      "source": [
        "model.compile(optimizer='adam', loss='categorical_crossentropy', metrics=['accuracy'])\n",
        "model.fit(x_train_1, y_train, epochs=10, validation_data=(x_test_1, y_test))"
      ],
      "metadata": {
        "colab": {
          "base_uri": "https://localhost:8080/"
        },
        "id": "mUq3TAzHHgeE",
        "outputId": "57b7ed6d-37a7-4a83-c613-c8a6ecb19bf0"
      },
      "execution_count": 23,
      "outputs": [
        {
          "output_type": "stream",
          "name": "stdout",
          "text": [
            "Epoch 1/10\n",
            "1563/1563 [==============================] - 15s 9ms/step - loss: 2.3028 - accuracy: 0.0992 - val_loss: 2.3026 - val_accuracy: 0.1000\n",
            "Epoch 2/10\n",
            "1563/1563 [==============================] - 13s 8ms/step - loss: 2.3028 - accuracy: 0.0985 - val_loss: 2.3026 - val_accuracy: 0.1000\n",
            "Epoch 3/10\n",
            "1563/1563 [==============================] - 14s 9ms/step - loss: 2.3028 - accuracy: 0.0987 - val_loss: 2.3026 - val_accuracy: 0.1000\n",
            "Epoch 4/10\n",
            "1563/1563 [==============================] - 13s 9ms/step - loss: 2.3028 - accuracy: 0.0990 - val_loss: 2.3026 - val_accuracy: 0.1000\n",
            "Epoch 5/10\n",
            "1563/1563 [==============================] - 13s 8ms/step - loss: 2.3028 - accuracy: 0.0995 - val_loss: 2.3026 - val_accuracy: 0.1000\n",
            "Epoch 6/10\n",
            "1563/1563 [==============================] - 13s 8ms/step - loss: 2.3028 - accuracy: 0.0988 - val_loss: 2.3026 - val_accuracy: 0.1000\n",
            "Epoch 7/10\n",
            "1563/1563 [==============================] - 13s 8ms/step - loss: 2.3027 - accuracy: 0.0980 - val_loss: 2.3027 - val_accuracy: 0.1000\n",
            "Epoch 8/10\n",
            "1563/1563 [==============================] - 12s 8ms/step - loss: 2.3028 - accuracy: 0.0973 - val_loss: 2.3026 - val_accuracy: 0.1000\n",
            "Epoch 9/10\n",
            "1563/1563 [==============================] - 12s 8ms/step - loss: 2.3028 - accuracy: 0.0979 - val_loss: 2.3026 - val_accuracy: 0.1000\n",
            "Epoch 10/10\n",
            "1563/1563 [==============================] - 13s 8ms/step - loss: 2.3028 - accuracy: 0.0998 - val_loss: 2.3026 - val_accuracy: 0.0999\n"
          ]
        },
        {
          "output_type": "execute_result",
          "data": {
            "text/plain": [
              "<keras.src.callbacks.History at 0x78575cd5a470>"
            ]
          },
          "metadata": {},
          "execution_count": 23
        }
      ]
    },
    {
      "cell_type": "code",
      "source": [
        "test_loss, test_acc = model.evaluate(x_test_1, y_test)\n",
        "print(f\"Test Accuracy: {test_acc}\")"
      ],
      "metadata": {
        "colab": {
          "base_uri": "https://localhost:8080/"
        },
        "id": "PGJSXn2DKNOU",
        "outputId": "2848adf9-f331-42ad-f8a1-7e43f8989ec0"
      },
      "execution_count": 24,
      "outputs": [
        {
          "output_type": "stream",
          "name": "stdout",
          "text": [
            "313/313 [==============================] - 1s 3ms/step - loss: 2.3039 - accuracy: 0.0999\n",
            "Test Accuracy: 0.09989999979734421\n"
          ]
        }
      ]
    },
    {
      "cell_type": "markdown",
      "source": [
        "TRYING DENSER LAYERS"
      ],
      "metadata": {
        "id": "twAu3mqCKQ3i"
      }
    },
    {
      "cell_type": "code",
      "source": [
        "model2 = models.Sequential()\n",
        "model2.add(layers.Flatten(input_shape=(32, 32, 3)))#flattening the image input\n",
        "model2.add(layers.Dense(256, activation='relu'))#building a simple NN with relu activation\n",
        "model2.add(layers.Dense(10, activation='softmax'))#softmax classifier"
      ],
      "metadata": {
        "id": "FFmWfsR9KNWH"
      },
      "execution_count": 22,
      "outputs": []
    },
    {
      "cell_type": "code",
      "source": [
        "model2.compile(optimizer='adam', loss='categorical_crossentropy', metrics=['accuracy'])\n",
        "model2.fit(x_train_1, y_train, epochs=30, validation_data=(x_test_1, y_test))"
      ],
      "metadata": {
        "colab": {
          "base_uri": "https://localhost:8080/"
        },
        "id": "6u-lqRNLKzyK",
        "outputId": "53fd810d-b8ac-42ce-e327-e56e139e5d92"
      },
      "execution_count": 26,
      "outputs": [
        {
          "output_type": "stream",
          "name": "stdout",
          "text": [
            "Epoch 1/30\n",
            "1563/1563 [==============================] - 22s 14ms/step - loss: 1.7740 - accuracy: 0.3616 - val_loss: 1.7292 - val_accuracy: 0.3774\n",
            "Epoch 2/30\n",
            "1563/1563 [==============================] - 22s 14ms/step - loss: 1.6844 - accuracy: 0.3947 - val_loss: 1.6348 - val_accuracy: 0.4212\n",
            "Epoch 3/30\n",
            "1563/1563 [==============================] - 22s 14ms/step - loss: 1.6417 - accuracy: 0.4135 - val_loss: 1.6394 - val_accuracy: 0.4100\n",
            "Epoch 4/30\n",
            "1563/1563 [==============================] - 19s 12ms/step - loss: 1.6105 - accuracy: 0.4219 - val_loss: 1.6249 - val_accuracy: 0.4236\n",
            "Epoch 5/30\n",
            "1563/1563 [==============================] - 21s 13ms/step - loss: 1.5893 - accuracy: 0.4334 - val_loss: 1.6252 - val_accuracy: 0.4300\n",
            "Epoch 6/30\n",
            "1563/1563 [==============================] - 21s 13ms/step - loss: 1.5690 - accuracy: 0.4410 - val_loss: 1.5677 - val_accuracy: 0.4373\n",
            "Epoch 7/30\n",
            "1563/1563 [==============================] - 20s 13ms/step - loss: 1.5515 - accuracy: 0.4463 - val_loss: 1.5831 - val_accuracy: 0.4341\n",
            "Epoch 8/30\n",
            "1563/1563 [==============================] - 21s 13ms/step - loss: 1.5396 - accuracy: 0.4504 - val_loss: 1.5389 - val_accuracy: 0.4550\n",
            "Epoch 9/30\n",
            "1563/1563 [==============================] - 20s 13ms/step - loss: 1.5237 - accuracy: 0.4549 - val_loss: 1.5367 - val_accuracy: 0.4486\n",
            "Epoch 10/30\n",
            "1563/1563 [==============================] - 23s 15ms/step - loss: 1.5118 - accuracy: 0.4618 - val_loss: 1.5296 - val_accuracy: 0.4578\n",
            "Epoch 11/30\n",
            "1563/1563 [==============================] - 20s 13ms/step - loss: 1.5048 - accuracy: 0.4609 - val_loss: 1.5760 - val_accuracy: 0.4411\n",
            "Epoch 12/30\n",
            "1563/1563 [==============================] - 20s 13ms/step - loss: 1.4940 - accuracy: 0.4652 - val_loss: 1.5586 - val_accuracy: 0.4392\n",
            "Epoch 13/30\n",
            "1563/1563 [==============================] - 20s 13ms/step - loss: 1.4864 - accuracy: 0.4687 - val_loss: 1.5743 - val_accuracy: 0.4400\n",
            "Epoch 14/30\n",
            "1563/1563 [==============================] - 20s 13ms/step - loss: 1.4788 - accuracy: 0.4700 - val_loss: 1.5479 - val_accuracy: 0.4525\n",
            "Epoch 15/30\n",
            "1563/1563 [==============================] - 22s 14ms/step - loss: 1.4696 - accuracy: 0.4746 - val_loss: 1.5562 - val_accuracy: 0.4447\n",
            "Epoch 16/30\n",
            "1563/1563 [==============================] - 20s 13ms/step - loss: 1.4636 - accuracy: 0.4773 - val_loss: 1.5117 - val_accuracy: 0.4606\n",
            "Epoch 17/30\n",
            "1563/1563 [==============================] - 21s 14ms/step - loss: 1.4606 - accuracy: 0.4779 - val_loss: 1.5231 - val_accuracy: 0.4567\n",
            "Epoch 18/30\n",
            "1563/1563 [==============================] - 20s 13ms/step - loss: 1.4573 - accuracy: 0.4769 - val_loss: 1.5328 - val_accuracy: 0.4491\n",
            "Epoch 19/30\n",
            "1563/1563 [==============================] - 21s 14ms/step - loss: 1.4498 - accuracy: 0.4832 - val_loss: 1.5222 - val_accuracy: 0.4687\n",
            "Epoch 20/30\n",
            "1563/1563 [==============================] - 22s 14ms/step - loss: 1.4458 - accuracy: 0.4848 - val_loss: 1.5036 - val_accuracy: 0.4679\n",
            "Epoch 21/30\n",
            "1563/1563 [==============================] - 20s 13ms/step - loss: 1.4413 - accuracy: 0.4854 - val_loss: 1.5243 - val_accuracy: 0.4552\n",
            "Epoch 22/30\n",
            "1563/1563 [==============================] - 21s 13ms/step - loss: 1.4363 - accuracy: 0.4878 - val_loss: 1.5505 - val_accuracy: 0.4520\n",
            "Epoch 23/30\n",
            "1563/1563 [==============================] - 20s 13ms/step - loss: 1.4348 - accuracy: 0.4880 - val_loss: 1.5050 - val_accuracy: 0.4658\n",
            "Epoch 24/30\n",
            "1563/1563 [==============================] - 20s 13ms/step - loss: 1.4257 - accuracy: 0.4914 - val_loss: 1.5120 - val_accuracy: 0.4646\n",
            "Epoch 25/30\n",
            "1563/1563 [==============================] - 22s 14ms/step - loss: 1.4232 - accuracy: 0.4907 - val_loss: 1.4992 - val_accuracy: 0.4699\n",
            "Epoch 26/30\n",
            "1563/1563 [==============================] - 20s 13ms/step - loss: 1.4222 - accuracy: 0.4931 - val_loss: 1.5280 - val_accuracy: 0.4562\n",
            "Epoch 27/30\n",
            "1563/1563 [==============================] - 22s 14ms/step - loss: 1.4177 - accuracy: 0.4935 - val_loss: 1.5294 - val_accuracy: 0.4593\n",
            "Epoch 28/30\n",
            "1563/1563 [==============================] - 22s 14ms/step - loss: 1.4141 - accuracy: 0.4958 - val_loss: 1.5083 - val_accuracy: 0.4686\n",
            "Epoch 29/30\n",
            "1563/1563 [==============================] - 25s 16ms/step - loss: 1.4123 - accuracy: 0.4940 - val_loss: 1.5285 - val_accuracy: 0.4583\n",
            "Epoch 30/30\n",
            "1563/1563 [==============================] - 20s 13ms/step - loss: 1.4078 - accuracy: 0.4960 - val_loss: 1.4997 - val_accuracy: 0.4652\n"
          ]
        },
        {
          "output_type": "execute_result",
          "data": {
            "text/plain": [
              "<keras.src.callbacks.History at 0x78575e64e170>"
            ]
          },
          "metadata": {},
          "execution_count": 26
        }
      ]
    },
    {
      "cell_type": "code",
      "source": [
        "test_loss, test_acc = model2.evaluate(x_test_1, y_test)\n",
        "print(f\"Test Accuracy: {test_acc}\")"
      ],
      "metadata": {
        "colab": {
          "base_uri": "https://localhost:8080/"
        },
        "id": "CJkwVpB3Kz0c",
        "outputId": "5d6e18bf-d48f-43b2-8885-a0da43f85b7d"
      },
      "execution_count": 27,
      "outputs": [
        {
          "output_type": "stream",
          "name": "stdout",
          "text": [
            "313/313 [==============================] - 1s 3ms/step - loss: 2.3039 - accuracy: 0.0999\n",
            "Test Accuracy: 0.09989999979734421\n"
          ]
        }
      ]
    },
    {
      "cell_type": "markdown",
      "source": [
        "TRYING CNN\n",
        "TRY GETTING ACCURACY USING A SIMPLE CUSTOM CNN OF OURS"
      ],
      "metadata": {
        "id": "GqMijmT-LzEF"
      }
    },
    {
      "cell_type": "code",
      "source": [
        "model3 = models.Sequential()\n",
        "model3.add(layers.Conv2D(32, (3, 3), activation='relu', input_shape=(32, 32, 3)))\n",
        "model3.add(layers.MaxPooling2D((2, 2)))\n",
        "model3.add(layers.Conv2D(64, (3, 3), activation='relu'))\n",
        "model3.add(layers.MaxPooling2D((2, 2)))\n",
        "model3.add(layers.Conv2D(64, (3, 3), activation='relu'))\n",
        "model3.add(layers.Flatten())\n",
        "model3.add(layers.Dense(64, activation='relu'))\n",
        "model3.add(layers.Dense(10, activation='softmax'))\n",
        "model3.compile(optimizer='adam', loss='categorical_crossentropy', metrics=['accuracy'])\n",
        "\n",
        "# Train the model\n",
        "model3.fit(x_train_1, y_train, epochs=100, validation_data=(x_test_1, y_test))"
      ],
      "metadata": {
        "colab": {
          "base_uri": "https://localhost:8080/"
        },
        "id": "2DVZZch3Lwrn",
        "outputId": "ae6d6f33-31e0-488f-b816-1e83d575ae2e"
      },
      "execution_count": 28,
      "outputs": [
        {
          "output_type": "stream",
          "name": "stdout",
          "text": [
            "Epoch 1/100\n",
            "1563/1563 [==============================] - 14s 8ms/step - loss: 2.3028 - accuracy: 0.0985 - val_loss: 2.3039 - val_accuracy: 0.0999\n",
            "Epoch 2/100\n",
            "1563/1563 [==============================] - 13s 8ms/step - loss: 2.3028 - accuracy: 0.0967 - val_loss: 2.3038 - val_accuracy: 0.1000\n",
            "Epoch 3/100\n",
            "1563/1563 [==============================] - 13s 9ms/step - loss: 2.3028 - accuracy: 0.0974 - val_loss: 2.3039 - val_accuracy: 0.1000\n",
            "Epoch 4/100\n",
            "1563/1563 [==============================] - 14s 9ms/step - loss: 2.3028 - accuracy: 0.0978 - val_loss: 2.3038 - val_accuracy: 0.1000\n",
            "Epoch 5/100\n",
            "1563/1563 [==============================] - 14s 9ms/step - loss: 2.3028 - accuracy: 0.0989 - val_loss: 2.3039 - val_accuracy: 0.1000\n",
            "Epoch 6/100\n",
            "1563/1563 [==============================] - 14s 9ms/step - loss: 2.3028 - accuracy: 0.0979 - val_loss: 2.3039 - val_accuracy: 0.0999\n",
            "Epoch 7/100\n",
            "1563/1563 [==============================] - 14s 9ms/step - loss: 2.3028 - accuracy: 0.0976 - val_loss: 2.3039 - val_accuracy: 0.1000\n",
            "Epoch 8/100\n",
            "1563/1563 [==============================] - 15s 10ms/step - loss: 2.3028 - accuracy: 0.0988 - val_loss: 2.3038 - val_accuracy: 0.1000\n",
            "Epoch 9/100\n",
            "1563/1563 [==============================] - 13s 8ms/step - loss: 2.3028 - accuracy: 0.0959 - val_loss: 2.3039 - val_accuracy: 0.1000\n",
            "Epoch 10/100\n",
            "1563/1563 [==============================] - 13s 8ms/step - loss: 2.3028 - accuracy: 0.0988 - val_loss: 2.3038 - val_accuracy: 0.1000\n",
            "Epoch 11/100\n",
            "1563/1563 [==============================] - 13s 8ms/step - loss: 2.3028 - accuracy: 0.0976 - val_loss: 2.3038 - val_accuracy: 0.1000\n",
            "Epoch 12/100\n",
            "1563/1563 [==============================] - 13s 8ms/step - loss: 2.3028 - accuracy: 0.1001 - val_loss: 2.3039 - val_accuracy: 0.1000\n",
            "Epoch 13/100\n",
            "1563/1563 [==============================] - 13s 9ms/step - loss: 2.3028 - accuracy: 0.0987 - val_loss: 2.3038 - val_accuracy: 0.1000\n",
            "Epoch 14/100\n",
            "1563/1563 [==============================] - 13s 8ms/step - loss: 2.3028 - accuracy: 0.0985 - val_loss: 2.3039 - val_accuracy: 0.1000\n",
            "Epoch 15/100\n",
            "1563/1563 [==============================] - 13s 8ms/step - loss: 2.3028 - accuracy: 0.0967 - val_loss: 2.3038 - val_accuracy: 0.1000\n",
            "Epoch 16/100\n",
            "1563/1563 [==============================] - 14s 9ms/step - loss: 2.3028 - accuracy: 0.0963 - val_loss: 2.3038 - val_accuracy: 0.1000\n",
            "Epoch 17/100\n",
            "1563/1563 [==============================] - 14s 9ms/step - loss: 2.3028 - accuracy: 0.0973 - val_loss: 2.3039 - val_accuracy: 0.1000\n",
            "Epoch 18/100\n",
            "1563/1563 [==============================] - 14s 9ms/step - loss: 2.3028 - accuracy: 0.0974 - val_loss: 2.3038 - val_accuracy: 0.1000\n",
            "Epoch 19/100\n",
            "1563/1563 [==============================] - 14s 9ms/step - loss: 2.3028 - accuracy: 0.0973 - val_loss: 2.3039 - val_accuracy: 0.1000\n",
            "Epoch 20/100\n",
            "1563/1563 [==============================] - 14s 9ms/step - loss: 2.3027 - accuracy: 0.0991 - val_loss: 2.3039 - val_accuracy: 0.1000\n",
            "Epoch 21/100\n",
            "1563/1563 [==============================] - 14s 9ms/step - loss: 2.3028 - accuracy: 0.0988 - val_loss: 2.3038 - val_accuracy: 0.1000\n",
            "Epoch 22/100\n",
            "1563/1563 [==============================] - 14s 9ms/step - loss: 2.3028 - accuracy: 0.0975 - val_loss: 2.3038 - val_accuracy: 0.1000\n",
            "Epoch 23/100\n",
            "1563/1563 [==============================] - 13s 8ms/step - loss: 2.3027 - accuracy: 0.1007 - val_loss: 2.3039 - val_accuracy: 0.1000\n",
            "Epoch 24/100\n",
            "1563/1563 [==============================] - 13s 8ms/step - loss: 2.3028 - accuracy: 0.0993 - val_loss: 2.3038 - val_accuracy: 0.0999\n",
            "Epoch 25/100\n",
            "1563/1563 [==============================] - 13s 8ms/step - loss: 2.3028 - accuracy: 0.0963 - val_loss: 2.3039 - val_accuracy: 0.0999\n",
            "Epoch 26/100\n",
            "1563/1563 [==============================] - 13s 9ms/step - loss: 2.3028 - accuracy: 0.0995 - val_loss: 2.3039 - val_accuracy: 0.1000\n",
            "Epoch 27/100\n",
            "1563/1563 [==============================] - 14s 9ms/step - loss: 2.3028 - accuracy: 0.0965 - val_loss: 2.3039 - val_accuracy: 0.1000\n",
            "Epoch 28/100\n",
            "1563/1563 [==============================] - 14s 9ms/step - loss: 2.3028 - accuracy: 0.0970 - val_loss: 2.3039 - val_accuracy: 0.1000\n",
            "Epoch 29/100\n",
            "1563/1563 [==============================] - 14s 9ms/step - loss: 2.3028 - accuracy: 0.0976 - val_loss: 2.3039 - val_accuracy: 0.1000\n",
            "Epoch 30/100\n",
            "1563/1563 [==============================] - 14s 9ms/step - loss: 2.3028 - accuracy: 0.0986 - val_loss: 2.3039 - val_accuracy: 0.1000\n",
            "Epoch 31/100\n",
            "1563/1563 [==============================] - 13s 8ms/step - loss: 2.3028 - accuracy: 0.0981 - val_loss: 2.3039 - val_accuracy: 0.0999\n",
            "Epoch 32/100\n",
            "1563/1563 [==============================] - 14s 9ms/step - loss: 2.3028 - accuracy: 0.0962 - val_loss: 2.3039 - val_accuracy: 0.1000\n",
            "Epoch 33/100\n",
            "1563/1563 [==============================] - 13s 9ms/step - loss: 2.3027 - accuracy: 0.0999 - val_loss: 2.3039 - val_accuracy: 0.1000\n",
            "Epoch 34/100\n",
            "1563/1563 [==============================] - 15s 10ms/step - loss: 2.3028 - accuracy: 0.1001 - val_loss: 2.3039 - val_accuracy: 0.0999\n",
            "Epoch 35/100\n",
            "1563/1563 [==============================] - 14s 9ms/step - loss: 2.3028 - accuracy: 0.0994 - val_loss: 2.3039 - val_accuracy: 0.1000\n",
            "Epoch 36/100\n",
            "1563/1563 [==============================] - 13s 9ms/step - loss: 2.3028 - accuracy: 0.0996 - val_loss: 2.3039 - val_accuracy: 0.1000\n",
            "Epoch 37/100\n",
            "1563/1563 [==============================] - 13s 9ms/step - loss: 2.3028 - accuracy: 0.0984 - val_loss: 2.3039 - val_accuracy: 0.1000\n",
            "Epoch 38/100\n",
            "1563/1563 [==============================] - 13s 8ms/step - loss: 2.3028 - accuracy: 0.0982 - val_loss: 2.3038 - val_accuracy: 0.1000\n",
            "Epoch 39/100\n",
            "1563/1563 [==============================] - 13s 8ms/step - loss: 2.3027 - accuracy: 0.0990 - val_loss: 2.3039 - val_accuracy: 0.1000\n",
            "Epoch 40/100\n",
            "1563/1563 [==============================] - 13s 8ms/step - loss: 2.3028 - accuracy: 0.0969 - val_loss: 2.3038 - val_accuracy: 0.1000\n",
            "Epoch 41/100\n",
            "1563/1563 [==============================] - 13s 8ms/step - loss: 2.3028 - accuracy: 0.0994 - val_loss: 2.3038 - val_accuracy: 0.0999\n",
            "Epoch 42/100\n",
            "1563/1563 [==============================] - 13s 8ms/step - loss: 2.3028 - accuracy: 0.0986 - val_loss: 2.3039 - val_accuracy: 0.1000\n",
            "Epoch 43/100\n",
            "1563/1563 [==============================] - 13s 9ms/step - loss: 2.3028 - accuracy: 0.1006 - val_loss: 2.3039 - val_accuracy: 0.1000\n",
            "Epoch 44/100\n",
            "1563/1563 [==============================] - 13s 8ms/step - loss: 2.3028 - accuracy: 0.1003 - val_loss: 2.3039 - val_accuracy: 0.1000\n",
            "Epoch 45/100\n",
            "1563/1563 [==============================] - 13s 8ms/step - loss: 2.3027 - accuracy: 0.0995 - val_loss: 2.3039 - val_accuracy: 0.0999\n",
            "Epoch 46/100\n",
            "1563/1563 [==============================] - 13s 8ms/step - loss: 2.3028 - accuracy: 0.0986 - val_loss: 2.3038 - val_accuracy: 0.1000\n",
            "Epoch 47/100\n",
            "1563/1563 [==============================] - 14s 9ms/step - loss: 2.3028 - accuracy: 0.0977 - val_loss: 2.3039 - val_accuracy: 0.0999\n",
            "Epoch 48/100\n",
            "1563/1563 [==============================] - 14s 9ms/step - loss: 2.3028 - accuracy: 0.0982 - val_loss: 2.3038 - val_accuracy: 0.1000\n",
            "Epoch 49/100\n",
            "1563/1563 [==============================] - 14s 9ms/step - loss: 2.3028 - accuracy: 0.0990 - val_loss: 2.3038 - val_accuracy: 0.1000\n",
            "Epoch 50/100\n",
            "1563/1563 [==============================] - 14s 9ms/step - loss: 2.3028 - accuracy: 0.0979 - val_loss: 2.3038 - val_accuracy: 0.0999\n",
            "Epoch 51/100\n",
            "1563/1563 [==============================] - 14s 9ms/step - loss: 2.3027 - accuracy: 0.0990 - val_loss: 2.3039 - val_accuracy: 0.0999\n",
            "Epoch 52/100\n",
            "1563/1563 [==============================] - 14s 9ms/step - loss: 2.3028 - accuracy: 0.0977 - val_loss: 2.3039 - val_accuracy: 0.0999\n",
            "Epoch 53/100\n",
            "1563/1563 [==============================] - 14s 9ms/step - loss: 2.3028 - accuracy: 0.0979 - val_loss: 2.3039 - val_accuracy: 0.1000\n",
            "Epoch 54/100\n",
            "1563/1563 [==============================] - 13s 9ms/step - loss: 2.3028 - accuracy: 0.0976 - val_loss: 2.3039 - val_accuracy: 0.1000\n",
            "Epoch 55/100\n",
            "1563/1563 [==============================] - 13s 8ms/step - loss: 2.3027 - accuracy: 0.1000 - val_loss: 2.3039 - val_accuracy: 0.1000\n",
            "Epoch 56/100\n",
            "1563/1563 [==============================] - 13s 8ms/step - loss: 2.3028 - accuracy: 0.1004 - val_loss: 2.3039 - val_accuracy: 0.1000\n",
            "Epoch 57/100\n",
            "1563/1563 [==============================] - 14s 9ms/step - loss: 2.3028 - accuracy: 0.0966 - val_loss: 2.3038 - val_accuracy: 0.1000\n",
            "Epoch 58/100\n",
            "1563/1563 [==============================] - 13s 9ms/step - loss: 2.3028 - accuracy: 0.0968 - val_loss: 2.3038 - val_accuracy: 0.0999\n",
            "Epoch 59/100\n",
            "1563/1563 [==============================] - 15s 10ms/step - loss: 2.3028 - accuracy: 0.0985 - val_loss: 2.3039 - val_accuracy: 0.1000\n",
            "Epoch 60/100\n",
            "1563/1563 [==============================] - 14s 9ms/step - loss: 2.3028 - accuracy: 0.0978 - val_loss: 2.3039 - val_accuracy: 0.1000\n",
            "Epoch 61/100\n",
            "1563/1563 [==============================] - 15s 10ms/step - loss: 2.3028 - accuracy: 0.0985 - val_loss: 2.3039 - val_accuracy: 0.1000\n",
            "Epoch 62/100\n",
            "1563/1563 [==============================] - 14s 9ms/step - loss: 2.3028 - accuracy: 0.0975 - val_loss: 2.3039 - val_accuracy: 0.1000\n",
            "Epoch 63/100\n",
            "1563/1563 [==============================] - 14s 9ms/step - loss: 2.3028 - accuracy: 0.0995 - val_loss: 2.3039 - val_accuracy: 0.1000\n",
            "Epoch 64/100\n",
            "1563/1563 [==============================] - 14s 9ms/step - loss: 2.3028 - accuracy: 0.0998 - val_loss: 2.3039 - val_accuracy: 0.0999\n",
            "Epoch 65/100\n",
            "1563/1563 [==============================] - 14s 9ms/step - loss: 2.3028 - accuracy: 0.0971 - val_loss: 2.3039 - val_accuracy: 0.1000\n",
            "Epoch 66/100\n",
            "1563/1563 [==============================] - 14s 9ms/step - loss: 2.3028 - accuracy: 0.0987 - val_loss: 2.3038 - val_accuracy: 0.1000\n",
            "Epoch 67/100\n",
            "1563/1563 [==============================] - 14s 9ms/step - loss: 2.3028 - accuracy: 0.0981 - val_loss: 2.3039 - val_accuracy: 0.1000\n",
            "Epoch 68/100\n",
            "1563/1563 [==============================] - 14s 9ms/step - loss: 2.3028 - accuracy: 0.0996 - val_loss: 2.3039 - val_accuracy: 0.1000\n",
            "Epoch 69/100\n",
            "1563/1563 [==============================] - 13s 8ms/step - loss: 2.3028 - accuracy: 0.0992 - val_loss: 2.3039 - val_accuracy: 0.1000\n",
            "Epoch 70/100\n",
            "1563/1563 [==============================] - 14s 9ms/step - loss: 2.3028 - accuracy: 0.0993 - val_loss: 2.3038 - val_accuracy: 0.1000\n",
            "Epoch 71/100\n",
            "1563/1563 [==============================] - 13s 8ms/step - loss: 2.3028 - accuracy: 0.0959 - val_loss: 2.3038 - val_accuracy: 0.1000\n",
            "Epoch 72/100\n",
            "1563/1563 [==============================] - 13s 9ms/step - loss: 2.3028 - accuracy: 0.0993 - val_loss: 2.3039 - val_accuracy: 0.1000\n",
            "Epoch 73/100\n",
            "1563/1563 [==============================] - 14s 9ms/step - loss: 2.3028 - accuracy: 0.0967 - val_loss: 2.3039 - val_accuracy: 0.1000\n",
            "Epoch 74/100\n",
            "1563/1563 [==============================] - 14s 9ms/step - loss: 2.3028 - accuracy: 0.1006 - val_loss: 2.3039 - val_accuracy: 0.1000\n",
            "Epoch 75/100\n",
            "1563/1563 [==============================] - 14s 9ms/step - loss: 2.3028 - accuracy: 0.0993 - val_loss: 2.3039 - val_accuracy: 0.1000\n",
            "Epoch 76/100\n",
            "1563/1563 [==============================] - 14s 9ms/step - loss: 2.3027 - accuracy: 0.1000 - val_loss: 2.3039 - val_accuracy: 0.0999\n",
            "Epoch 77/100\n",
            "1563/1563 [==============================] - 14s 9ms/step - loss: 2.3028 - accuracy: 0.0984 - val_loss: 2.3039 - val_accuracy: 0.1000\n",
            "Epoch 78/100\n",
            "1563/1563 [==============================] - 14s 9ms/step - loss: 2.3028 - accuracy: 0.0967 - val_loss: 2.3039 - val_accuracy: 0.1000\n",
            "Epoch 79/100\n",
            "1563/1563 [==============================] - 15s 10ms/step - loss: 2.3028 - accuracy: 0.0979 - val_loss: 2.3038 - val_accuracy: 0.1000\n",
            "Epoch 80/100\n",
            "1563/1563 [==============================] - 16s 10ms/step - loss: 2.3027 - accuracy: 0.1000 - val_loss: 2.3039 - val_accuracy: 0.1000\n",
            "Epoch 81/100\n",
            "1563/1563 [==============================] - 14s 9ms/step - loss: 2.3028 - accuracy: 0.0961 - val_loss: 2.3038 - val_accuracy: 0.1000\n",
            "Epoch 82/100\n",
            "1563/1563 [==============================] - 13s 8ms/step - loss: 2.3027 - accuracy: 0.0999 - val_loss: 2.3039 - val_accuracy: 0.1000\n",
            "Epoch 83/100\n",
            "1563/1563 [==============================] - 13s 8ms/step - loss: 2.3028 - accuracy: 0.0988 - val_loss: 2.3039 - val_accuracy: 0.1000\n",
            "Epoch 84/100\n",
            "1563/1563 [==============================] - 14s 9ms/step - loss: 2.3028 - accuracy: 0.0985 - val_loss: 2.3039 - val_accuracy: 0.1000\n",
            "Epoch 85/100\n",
            "1563/1563 [==============================] - 13s 8ms/step - loss: 2.3028 - accuracy: 0.0985 - val_loss: 2.3039 - val_accuracy: 0.1000\n",
            "Epoch 86/100\n",
            "1563/1563 [==============================] - 13s 8ms/step - loss: 2.3028 - accuracy: 0.0962 - val_loss: 2.3038 - val_accuracy: 0.1000\n",
            "Epoch 87/100\n",
            "1563/1563 [==============================] - 13s 8ms/step - loss: 2.3028 - accuracy: 0.0984 - val_loss: 2.3038 - val_accuracy: 0.1000\n",
            "Epoch 88/100\n",
            "1563/1563 [==============================] - 13s 8ms/step - loss: 2.3028 - accuracy: 0.0986 - val_loss: 2.3039 - val_accuracy: 0.1000\n",
            "Epoch 89/100\n",
            "1563/1563 [==============================] - 13s 8ms/step - loss: 2.3028 - accuracy: 0.0973 - val_loss: 2.3040 - val_accuracy: 0.1000\n",
            "Epoch 90/100\n",
            "1563/1563 [==============================] - 13s 8ms/step - loss: 2.3028 - accuracy: 0.0976 - val_loss: 2.3039 - val_accuracy: 0.0999\n",
            "Epoch 91/100\n",
            "1563/1563 [==============================] - 14s 9ms/step - loss: 2.3028 - accuracy: 0.0976 - val_loss: 2.3038 - val_accuracy: 0.1000\n",
            "Epoch 92/100\n",
            "1563/1563 [==============================] - 13s 8ms/step - loss: 2.3028 - accuracy: 0.0962 - val_loss: 2.3038 - val_accuracy: 0.1000\n",
            "Epoch 93/100\n",
            "1563/1563 [==============================] - 13s 8ms/step - loss: 2.3028 - accuracy: 0.0983 - val_loss: 2.3038 - val_accuracy: 0.1000\n",
            "Epoch 94/100\n",
            "1563/1563 [==============================] - 14s 9ms/step - loss: 2.3028 - accuracy: 0.0991 - val_loss: 2.3039 - val_accuracy: 0.1000\n",
            "Epoch 95/100\n",
            "1563/1563 [==============================] - 14s 9ms/step - loss: 2.3027 - accuracy: 0.0981 - val_loss: 2.3038 - val_accuracy: 0.1000\n",
            "Epoch 96/100\n",
            "1563/1563 [==============================] - 14s 9ms/step - loss: 2.3028 - accuracy: 0.0980 - val_loss: 2.3038 - val_accuracy: 0.0999\n",
            "Epoch 97/100\n",
            "1563/1563 [==============================] - 14s 9ms/step - loss: 2.3028 - accuracy: 0.0995 - val_loss: 2.3039 - val_accuracy: 0.1000\n",
            "Epoch 98/100\n",
            "1563/1563 [==============================] - 14s 9ms/step - loss: 2.3028 - accuracy: 0.0992 - val_loss: 2.3039 - val_accuracy: 0.1000\n",
            "Epoch 99/100\n",
            "1563/1563 [==============================] - 13s 9ms/step - loss: 2.3028 - accuracy: 0.0974 - val_loss: 2.3039 - val_accuracy: 0.1000\n",
            "Epoch 100/100\n",
            "1563/1563 [==============================] - 14s 9ms/step - loss: 2.3028 - accuracy: 0.0994 - val_loss: 2.3039 - val_accuracy: 0.1000\n"
          ]
        },
        {
          "output_type": "execute_result",
          "data": {
            "text/plain": [
              "<keras.src.callbacks.History at 0x78575c133160>"
            ]
          },
          "metadata": {},
          "execution_count": 28
        }
      ]
    },
    {
      "cell_type": "code",
      "source": [
        "test_loss, test_acc = model3.evaluate(x_test_1, y_test)\n",
        "print(f\"Test Accuracy: {test_acc}\")"
      ],
      "metadata": {
        "colab": {
          "base_uri": "https://localhost:8080/"
        },
        "id": "7yzRpJM2Lwwv",
        "outputId": "f973078a-ef18-46a3-d5b9-5c9e902d711b"
      },
      "execution_count": 29,
      "outputs": [
        {
          "output_type": "stream",
          "name": "stdout",
          "text": [
            "313/313 [==============================] - 1s 3ms/step - loss: 2.3039 - accuracy: 0.1000\n",
            "Test Accuracy: 0.10000000149011612\n"
          ]
        }
      ]
    },
    {
      "cell_type": "markdown",
      "source": [
        "TRYING USING MADE MODELS(VGG16)"
      ],
      "metadata": {
        "id": "YR8ySvvANOCW"
      }
    },
    {
      "cell_type": "code",
      "source": [
        "import tensorflow as tf\n",
        "from tensorflow.keras.applications import VGG16\n",
        "from tensorflow.keras.datasets import cifar10\n",
        "from tensorflow.keras.utils import to_categorical\n",
        "from tensorflow.keras import layers, models\n"
      ],
      "metadata": {
        "id": "ufa_Y56zOOgC"
      },
      "execution_count": 31,
      "outputs": []
    },
    {
      "cell_type": "code",
      "source": [
        "base_model = VGG16(weights='imagenet', include_top=False, input_shape=(32, 32, 3))\n",
        "for layer in base_model.layers:#make the layers in vgg16 model no trainable\n",
        "    layer.trainable = False\n",
        "\n",
        "# Create a new model using the VGG16 base model and adding custom layers\n",
        "model4 = models.Sequential()\n",
        "\n",
        "model4.add(base_model)\n",
        "model4.add(layers.Flatten())\n",
        "model4.add(layers.Dense(256, activation='relu'))\n",
        "model4.add(layers.Dropout(0.5))#regularisation\n",
        "model4.add(layers.Dense(10, activation='softmax'))\n",
        "model4.compile(optimizer='adam', loss='categorical_crossentropy', metrics=['accuracy'])\n",
        "\n",
        "# Train the model\n",
        "model4.fit(x_train_1, y_train, epochs=25, validation_data=(x_test_1, y_test))\n"
      ],
      "metadata": {
        "colab": {
          "base_uri": "https://localhost:8080/"
        },
        "id": "Hk9hzzfxNUzA",
        "outputId": "7727f2df-33b2-4358-bae2-ae82534bf9bc"
      },
      "execution_count": 32,
      "outputs": [
        {
          "output_type": "stream",
          "name": "stdout",
          "text": [
            "Downloading data from https://storage.googleapis.com/tensorflow/keras-applications/vgg16/vgg16_weights_tf_dim_ordering_tf_kernels_notop.h5\n",
            "58889256/58889256 [==============================] - 0s 0us/step\n",
            "Epoch 1/25\n",
            "1563/1563 [==============================] - 799s 510ms/step - loss: 1.4866 - accuracy: 0.4760 - val_loss: 1.2749 - val_accuracy: 0.5511\n",
            "Epoch 2/25\n",
            "1563/1563 [==============================] - 795s 509ms/step - loss: 1.2915 - accuracy: 0.5448 - val_loss: 1.2123 - val_accuracy: 0.5721\n",
            "Epoch 3/25\n",
            "1563/1563 [==============================] - 796s 509ms/step - loss: 1.2486 - accuracy: 0.5610 - val_loss: 1.1864 - val_accuracy: 0.5819\n",
            "Epoch 4/25\n",
            "1563/1563 [==============================] - 781s 500ms/step - loss: 1.2160 - accuracy: 0.5745 - val_loss: 1.1736 - val_accuracy: 0.5893\n",
            "Epoch 5/25\n",
            "1563/1563 [==============================] - 789s 505ms/step - loss: 1.1863 - accuracy: 0.5845 - val_loss: 1.1625 - val_accuracy: 0.5904\n",
            "Epoch 6/25\n",
            "1563/1563 [==============================] - 796s 509ms/step - loss: 1.1677 - accuracy: 0.5894 - val_loss: 1.1553 - val_accuracy: 0.5931\n",
            "Epoch 7/25\n",
            "1563/1563 [==============================] - 790s 506ms/step - loss: 1.1533 - accuracy: 0.5944 - val_loss: 1.1324 - val_accuracy: 0.6020\n",
            "Epoch 8/25\n",
            "1563/1563 [==============================] - 774s 495ms/step - loss: 1.1394 - accuracy: 0.6009 - val_loss: 1.1413 - val_accuracy: 0.6046\n",
            "Epoch 9/25\n",
            "1563/1563 [==============================] - 777s 497ms/step - loss: 1.1220 - accuracy: 0.6078 - val_loss: 1.1332 - val_accuracy: 0.6017\n",
            "Epoch 10/25\n",
            "1563/1563 [==============================] - 800s 512ms/step - loss: 1.1076 - accuracy: 0.6126 - val_loss: 1.1164 - val_accuracy: 0.6098\n",
            "Epoch 11/25\n",
            "1563/1563 [==============================] - 789s 505ms/step - loss: 1.1018 - accuracy: 0.6132 - val_loss: 1.1293 - val_accuracy: 0.6020\n",
            "Epoch 12/25\n",
            "1563/1563 [==============================] - 779s 499ms/step - loss: 1.0901 - accuracy: 0.6179 - val_loss: 1.1142 - val_accuracy: 0.6083\n",
            "Epoch 13/25\n",
            "1563/1563 [==============================] - 782s 500ms/step - loss: 1.0810 - accuracy: 0.6219 - val_loss: 1.1165 - val_accuracy: 0.6113\n",
            "Epoch 14/25\n",
            "1563/1563 [==============================] - 779s 498ms/step - loss: 1.0702 - accuracy: 0.6236 - val_loss: 1.1146 - val_accuracy: 0.6111\n",
            "Epoch 15/25\n",
            "1563/1563 [==============================] - 768s 491ms/step - loss: 1.0605 - accuracy: 0.6274 - val_loss: 1.1081 - val_accuracy: 0.6154\n",
            "Epoch 16/25\n",
            "1563/1563 [==============================] - 775s 496ms/step - loss: 1.0548 - accuracy: 0.6298 - val_loss: 1.1108 - val_accuracy: 0.6169\n",
            "Epoch 17/25\n",
            "1563/1563 [==============================] - 760s 486ms/step - loss: 1.0453 - accuracy: 0.6335 - val_loss: 1.1082 - val_accuracy: 0.6162\n",
            "Epoch 18/25\n",
            "1563/1563 [==============================] - 774s 496ms/step - loss: 1.0369 - accuracy: 0.6350 - val_loss: 1.1111 - val_accuracy: 0.6149\n",
            "Epoch 19/25\n",
            "1563/1563 [==============================] - 778s 498ms/step - loss: 1.0293 - accuracy: 0.6380 - val_loss: 1.1003 - val_accuracy: 0.6193\n",
            "Epoch 20/25\n",
            "1563/1563 [==============================] - 765s 490ms/step - loss: 1.0197 - accuracy: 0.6422 - val_loss: 1.0964 - val_accuracy: 0.6178\n",
            "Epoch 21/25\n",
            "1563/1563 [==============================] - 780s 499ms/step - loss: 1.0168 - accuracy: 0.6400 - val_loss: 1.0992 - val_accuracy: 0.6200\n",
            "Epoch 22/25\n",
            "1563/1563 [==============================] - 758s 485ms/step - loss: 1.0114 - accuracy: 0.6411 - val_loss: 1.1002 - val_accuracy: 0.6202\n",
            "Epoch 23/25\n",
            "1563/1563 [==============================] - 776s 497ms/step - loss: 1.0015 - accuracy: 0.6468 - val_loss: 1.1069 - val_accuracy: 0.6213\n",
            "Epoch 24/25\n",
            "1563/1563 [==============================] - 773s 494ms/step - loss: 0.9957 - accuracy: 0.6466 - val_loss: 1.1114 - val_accuracy: 0.6201\n",
            "Epoch 25/25\n",
            "1563/1563 [==============================] - 756s 484ms/step - loss: 0.9920 - accuracy: 0.6472 - val_loss: 1.1101 - val_accuracy: 0.6229\n"
          ]
        },
        {
          "output_type": "execute_result",
          "data": {
            "text/plain": [
              "<keras.src.callbacks.History at 0x78575c130a90>"
            ]
          },
          "metadata": {},
          "execution_count": 32
        }
      ]
    },
    {
      "cell_type": "code",
      "source": [
        "test_loss, test_acc = model4.evaluate(x_test_1, y_test)\n",
        "print(f\"Test Accuracy: {test_acc}\")"
      ],
      "metadata": {
        "colab": {
          "base_uri": "https://localhost:8080/"
        },
        "id": "wlfHd0u2NU4h",
        "outputId": "47400100-d80f-4012-cece-a32c286ecd49"
      },
      "execution_count": 33,
      "outputs": [
        {
          "output_type": "stream",
          "name": "stdout",
          "text": [
            "313/313 [==============================] - 129s 413ms/step - loss: 1.1101 - accuracy: 0.6229\n",
            "Test Accuracy: 0.6229000091552734\n"
          ]
        }
      ]
    }
  ]
}